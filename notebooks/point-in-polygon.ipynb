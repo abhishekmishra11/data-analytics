{
 "cells": [
  {
   "cell_type": "code",
   "execution_count": 1,
   "metadata": {
    "collapsed": false,
    "deletable": true,
    "editable": true
   },
   "outputs": [
    {
     "ename": "ImportError",
     "evalue": "No module named shapefile",
     "output_type": "error",
     "traceback": [
      "\u001b[0;31m---------------------------------------------------------------------------\u001b[0m",
      "\u001b[0;31mImportError\u001b[0m                               Traceback (most recent call last)",
      "\u001b[0;32m<ipython-input-1-5f42a599a96e>\u001b[0m in \u001b[0;36m<module>\u001b[0;34m()\u001b[0m\n\u001b[0;32m----> 1\u001b[0;31m \u001b[0;32mimport\u001b[0m \u001b[0mshapefile\u001b[0m\u001b[0;34m\u001b[0m\u001b[0m\n\u001b[0m\u001b[1;32m      2\u001b[0m \u001b[0;32mimport\u001b[0m \u001b[0mmatplotlib\u001b[0m\u001b[0;34m.\u001b[0m\u001b[0mpyplot\u001b[0m \u001b[0;32mas\u001b[0m \u001b[0mplt\u001b[0m\u001b[0;34m\u001b[0m\u001b[0m\n\u001b[1;32m      3\u001b[0m \u001b[0;32mimport\u001b[0m \u001b[0mmatplotlib\u001b[0m\u001b[0;34m.\u001b[0m\u001b[0mpatches\u001b[0m \u001b[0;32mas\u001b[0m \u001b[0mpatches\u001b[0m\u001b[0;34m\u001b[0m\u001b[0m\n\u001b[1;32m      4\u001b[0m \u001b[0;32mfrom\u001b[0m \u001b[0mmatplotlib\u001b[0m\u001b[0;34m.\u001b[0m\u001b[0mpatches\u001b[0m \u001b[0;32mimport\u001b[0m \u001b[0mPolygon\u001b[0m\u001b[0;34m\u001b[0m\u001b[0m\n\u001b[1;32m      5\u001b[0m \u001b[0;32mfrom\u001b[0m \u001b[0mmatplotlib\u001b[0m\u001b[0;34m.\u001b[0m\u001b[0mcollections\u001b[0m \u001b[0;32mimport\u001b[0m \u001b[0mPatchCollection\u001b[0m\u001b[0;34m\u001b[0m\u001b[0m\n",
      "\u001b[0;31mImportError\u001b[0m: No module named shapefile"
     ]
    }
   ],
   "source": [
    "import shapefile\n",
    "import matplotlib.pyplot as plt\n",
    "import matplotlib.patches as patches\n",
    "from matplotlib.patches import Polygon\n",
    "from matplotlib.collections import PatchCollection\n",
    "from matplotlib.cm import Dark2\n",
    "import numpy as np\n",
    "from geopy.distance import vincenty\n",
    "import matplotlib.path as mplPath"
   ]
  },
  {
   "cell_type": "code",
   "execution_count": null,
   "metadata": {
    "collapsed": false,
    "deletable": true,
    "editable": true
   },
   "outputs": [],
   "source": [
    "def point_in_poly(x,y,poly):\n",
    "\n",
    "    n = len(poly)\n",
    "    inside = False\n",
    "\n",
    "    p1x,p1y = poly[0]\n",
    "    for i in range(n+1):\n",
    "        p2x,p2y = poly[i % n]\n",
    "        if y > min(p1y,p2y):\n",
    "            if y <= max(p1y,p2y):\n",
    "                if x <= max(p1x,p2x):\n",
    "                    if p1y != p2y:\n",
    "                        xints = (y-p1y)*(p2x-p1x)/(p2y-p1y)+p1x\n",
    "                    if p1x == p2x or x <= xints:\n",
    "                        inside = not inside\n",
    "        p1x,p1y = p2x,p2y\n",
    "\n",
    "    return inside"
   ]
  },
  {
   "cell_type": "code",
   "execution_count": null,
   "metadata": {
    "collapsed": false,
    "deletable": true,
    "editable": true
   },
   "outputs": [],
   "source": [
    "#   -- input --\n",
    "%matplotlib tk\n",
    "\n",
    "sf = shapefile.Reader('../shapefiles/mpa_inventory_2014_public_shp/Guam',\n",
    "                   'Guam_shp')\n",
    "recs    = sf.records()\n",
    "shapes  = sf.shapes()\n",
    "Nshp    = len(shapes)\n",
    "cns     = []\n",
    "for nshp in xrange(Nshp):\n",
    "    cns.append(recs[nshp][1])\n",
    "cns = np.array(cns)\n",
    "\n",
    "cm = Dark2\n",
    "cccol = cm(1.*np.arange(Nshp)/Nshp)\n",
    "#   -- plot --\n",
    "fig     = plt.figure()\n",
    "ax      = fig.add_subplot(111)\n",
    "\n",
    "for nshp in {21}:\n",
    "    print(shapes[nshp].points[:1])\n",
    "    ptchs   = []\n",
    "    pts     = np.array(shapes[nshp].points)\n",
    "    prt     = shapes[nshp].parts\n",
    "    par     = list(prt) + [pts.shape[0]]\n",
    "    for pij in xrange(len(prt)):\n",
    "        ptchs.append(Polygon(pts[par[pij]:par[pij+1]]))\n",
    "    for chk_pt in shapes[nshp].points:\n",
    "        print('{: 12.3f} kilometers'.format(vincenty((145.4758333300001, 11.56888889000004),chk_pt).kilometers))\n",
    "    ax.add_collection(PatchCollection(ptchs,facecolor='r',edgecolor='k', linewidths=1))\n",
    "\n",
    "#    print(point_in_poly(145.475833331, 11.568888891,pts))\n",
    "    polygon=mplPath.Path(shapes[nshp].points)\n",
    "#    print(polygon.contains_point((145.475833331, 11.568888891)))\n",
    "    polygon1=Polygon(pts)\n",
    "#    print(polygon1.contains_point((145.475833331, 11.568888891)))\n",
    "    \n",
    "    #vincenty([143.52, 12.671)\n",
    "ax.set_xlim(140,+150)\n",
    "ax.set_ylim(0,25)\n",
    "\n",
    "\n",
    "ax.plot(145.45, 11.5,'bo',markersize=5)\n",
    "print(point_in_poly(145.45, 11.5,pts))\n",
    "print(polygon.contains_point((145.45, 11.5)))\n",
    "print(polygon1.contains_point((145.45, 11.5)))\n",
    "print('{: 12.3f} kilometers'.format(vincenty((145.45, 11.5),chk_pt).kilometers))\n",
    "\n",
    "ax.plot(145.475833331, 11.568888891,'go',markersize=5)\n",
    "print(point_in_poly(145.475833331, 11.568888891,pts))\n",
    "print(polygon.contains_point((145.475833331, 11.568888891)))\n",
    "print(polygon1.contains_point((145.475833331, 11.568888891)))\n",
    "print('{: 12.3f} kilometers'.format(vincenty((145.47583333, 11.56888889),chk_pt).kilometers))\n",
    "\n",
    "ax.plot(145.5, 11.6,'yo',markersize=5)\n",
    "print(point_in_poly(145.5, 11.6,pts))\n",
    "print(polygon.contains_point((145.5, 11.6)))\n",
    "print(polygon1.contains_point((145.5, 11.6)))\n",
    "print('{: 12.3f} kilometers'.format(vincenty((145.5, 11.6),chk_pt).kilometers))\n",
    "\n",
    "\n",
    "plt.show()"
   ]
  },
  {
   "cell_type": "code",
   "execution_count": null,
   "metadata": {
    "collapsed": false,
    "deletable": true,
    "editable": true
   },
   "outputs": [],
   "source": [
    "print(chk_pt)"
   ]
  },
  {
   "cell_type": "code",
   "execution_count": null,
   "metadata": {
    "collapsed": false,
    "deletable": true,
    "editable": true
   },
   "outputs": [],
   "source": [
    "for nshp in xrange(Nshp):\n",
    "    print(recs[nshp][6])\n",
    "print(shapes[0].points[:1])"
   ]
  },
  {
   "cell_type": "code",
   "execution_count": null,
   "metadata": {
    "collapsed": false,
    "deletable": true,
    "editable": true
   },
   "outputs": [],
   "source": [
    "print(shapes[0].points[:1])\n",
    "for nshp in xrange(Nshp):\n",
    "    print(len(shapes[nshp].points))\n",
    "    print(point_in_poly(144.9178062420001, 13.613461181000048,shapes[nshp].points))\n",
    "    polygon=Polygon(shapes[nshp].points)\n",
    "    print(polygon.contains_point([144.9178062420001, 13.613461181000048]))\n"
   ]
  },
  {
   "cell_type": "code",
   "execution_count": null,
   "metadata": {
    "collapsed": false,
    "deletable": true,
    "editable": true
   },
   "outputs": [],
   "source": [
    "pts = np.array(shapes[0].points)"
   ]
  },
  {
   "cell_type": "code",
   "execution_count": null,
   "metadata": {
    "collapsed": false,
    "deletable": true,
    "editable": true
   },
   "outputs": [],
   "source": [
    "pts[:5]"
   ]
  },
  {
   "cell_type": "code",
   "execution_count": null,
   "metadata": {
    "collapsed": false,
    "deletable": true,
    "editable": true
   },
   "outputs": [],
   "source": [
    "print(point_in_poly(145.92942848,   20.61172039,pts))\n",
    "\n",
    "polygon=Polygon(pts)\n",
    "\n",
    "polygon.contains_point( [145.92942848,   20.61172039],100)\n"
   ]
  }
 ],
 "metadata": {
  "kernelspec": {
   "display_name": "Python 2",
   "language": "python",
   "name": "python2"
  },
  "language_info": {
   "codemirror_mode": {
    "name": "ipython",
    "version": 2
   },
   "file_extension": ".py",
   "mimetype": "text/x-python",
   "name": "python",
   "nbconvert_exporter": "python",
   "pygments_lexer": "ipython2",
   "version": "2.7.11"
  }
 },
 "nbformat": 4,
 "nbformat_minor": 2
}
