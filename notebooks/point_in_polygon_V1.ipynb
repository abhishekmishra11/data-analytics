{
 "cells": [
  {
   "cell_type": "code",
   "execution_count": 1,
   "metadata": {
    "collapsed": true,
    "deletable": true,
    "editable": true
   },
   "outputs": [],
   "source": [
    "import shapefile\n",
    "import matplotlib.pyplot as plt\n",
    "import matplotlib.patches as patches\n",
    "from matplotlib.patches import Polygon\n",
    "from matplotlib.collections import PatchCollection\n",
    "from matplotlib.cm import Dark2\n",
    "import numpy as np\n",
    "from geopy.distance import vincenty\n",
    "import matplotlib.path as mplPath"
   ]
  },
  {
   "cell_type": "code",
   "execution_count": 2,
   "metadata": {
    "collapsed": false,
    "deletable": true,
    "editable": true
   },
   "outputs": [],
   "source": [
    "def point_in_poly(x,y,poly):\n",
    "\n",
    "    n = len(poly)\n",
    "    inside = False\n",
    "\n",
    "    p1x,p1y = poly[0]\n",
    "    for i in range(n+1):\n",
    "        p2x,p2y = poly[i % n]\n",
    "        if y > min(p1y,p2y):\n",
    "            if y <= max(p1y,p2y):\n",
    "                if x <= max(p1x,p2x):\n",
    "                    if p1y != p2y:\n",
    "                        xints = (y-p1y)*(p2x-p1x)/(p2y-p1y)+p1x\n",
    "                    if p1x == p2x or x <= xints:\n",
    "                        inside = not inside\n",
    "        p1x,p1y = p2x,p2y\n",
    "\n",
    "    return inside"
   ]
  },
  {
   "cell_type": "code",
   "execution_count": 3,
   "metadata": {
    "collapsed": false,
    "deletable": true,
    "editable": true
   },
   "outputs": [
    {
     "name": "stdout",
     "output_type": "stream",
     "text": [
      "[(145.4758333300001, 11.56888889000004)]\n",
      "       0.000 kilometers\n",
      "     274.491 kilometers\n",
      "     349.357 kilometers\n",
      "     111.496 kilometers\n",
      "      92.198 kilometers\n",
      "     454.126 kilometers\n",
      "     633.349 kilometers\n",
      "     733.638 kilometers\n",
      "     834.156 kilometers\n",
      "     858.620 kilometers\n",
      "     884.679 kilometers\n",
      "     902.316 kilometers\n",
      "    1055.136 kilometers\n",
      "    1129.020 kilometers\n",
      "    1129.024 kilometers\n",
      "    1123.344 kilometers\n",
      "    1120.102 kilometers\n",
      "    1110.923 kilometers\n",
      "    1105.946 kilometers\n",
      "    1101.370 kilometers\n",
      "    1090.251 kilometers\n",
      "     868.216 kilometers\n",
      "     820.143 kilometers\n",
      "     771.971 kilometers\n",
      "     750.545 kilometers\n",
      "     758.371 kilometers\n",
      "     697.809 kilometers\n",
      "     588.869 kilometers\n",
      "     462.499 kilometers\n",
      "     124.992 kilometers\n",
      "       0.000 kilometers\n",
      "False\n",
      "False\n",
      "False\n",
      "       6.943 kilometers\n",
      "True\n",
      "True\n",
      "True\n",
      "       0.000 kilometers\n",
      "True\n",
      "True\n",
      "True\n",
      "       3.918 kilometers\n"
     ]
    }
   ],
   "source": [
    "#   -- input --\n",
    "%matplotlib tk\n",
    "\n",
    "sf = shapefile.Reader('../mpa_inventory_2014_public_shp/Guam',\n",
    "                   'Guam_shp')\n",
    "recs    = sf.records()\n",
    "shapes  = sf.shapes()\n",
    "Nshp    = len(shapes)\n",
    "cns     = []\n",
    "for nshp in xrange(Nshp):\n",
    "    cns.append(recs[nshp][1])\n",
    "cns = np.array(cns)\n",
    "\n",
    "cm = Dark2\n",
    "cccol = cm(1.*np.arange(Nshp)/Nshp)\n",
    "#   -- plot --\n",
    "fig     = plt.figure()\n",
    "ax      = fig.add_subplot(111)\n",
    "\n",
    "for nshp in {21}:\n",
    "    print(shapes[nshp].points[:1])\n",
    "    ptchs   = []\n",
    "    pts     = np.array(shapes[nshp].points)\n",
    "    prt     = shapes[nshp].parts\n",
    "    par     = list(prt) + [pts.shape[0]]\n",
    "    for pij in xrange(len(prt)):\n",
    "        ptchs.append(Polygon(pts[par[pij]:par[pij+1]]))\n",
    "    for chk_pt in shapes[nshp].points:\n",
    "        print('{: 12.3f} kilometers'.format(vincenty((145.4758333300001, 11.56888889000004),chk_pt).kilometers))\n",
    "    ax.add_collection(PatchCollection(ptchs,facecolor='r',edgecolor='k', linewidths=1))\n",
    "\n",
    "#    print(point_in_poly(145.475833331, 11.568888891,pts))\n",
    "    polygon=mplPath.Path(shapes[nshp].points)\n",
    "#    print(polygon.contains_point((145.475833331, 11.568888891)))\n",
    "    polygon1=Polygon(pts)\n",
    "#    print(polygon1.contains_point((145.475833331, 11.568888891)))\n",
    "    \n",
    "    #vincenty([143.52, 12.671)\n",
    "ax.set_xlim(140,+150)\n",
    "ax.set_ylim(0,25)\n",
    "\n",
    "\n",
    "ax.plot(145.45, 11.5,'bo',markersize=5)\n",
    "print(point_in_poly(145.45, 11.5,pts))\n",
    "print(polygon.contains_point((145.45, 11.5)))\n",
    "print(polygon1.contains_point((145.45, 11.5)))\n",
    "print('{: 12.3f} kilometers'.format(vincenty((145.45, 11.5),chk_pt).kilometers))\n",
    "\n",
    "ax.plot(145.475833331, 11.568888891,'go',markersize=5)\n",
    "print(point_in_poly(145.475833331, 11.568888891,pts))\n",
    "print(polygon.contains_point((145.475833331, 11.568888891)))\n",
    "print(polygon1.contains_point((145.475833331, 11.568888891)))\n",
    "print('{: 12.3f} kilometers'.format(vincenty((145.47583333, 11.56888889),chk_pt).kilometers))\n",
    "\n",
    "ax.plot(145.5, 11.6,'yo',markersize=5)\n",
    "print(point_in_poly(145.5, 11.6,pts))\n",
    "print(polygon.contains_point((145.5, 11.6)))\n",
    "print(polygon1.contains_point((145.5, 11.6)))\n",
    "print('{: 12.3f} kilometers'.format(vincenty((145.5, 11.6),chk_pt).kilometers))\n",
    "\n",
    "\n",
    "plt.show()"
   ]
  },
  {
   "cell_type": "code",
   "execution_count": 4,
   "metadata": {
    "collapsed": false,
    "deletable": true,
    "editable": true
   },
   "outputs": [
    {
     "name": "stdout",
     "output_type": "stream",
     "text": [
      "(145.4758333300001, 11.56888889000004)\n"
     ]
    }
   ],
   "source": [
    "print(chk_pt)"
   ]
  },
  {
   "cell_type": "code",
   "execution_count": 5,
   "metadata": {
    "collapsed": false,
    "deletable": true,
    "editable": true
   },
   "outputs": [
    {
     "name": "stdout",
     "output_type": "stream",
     "text": [
      "Pati Point\n",
      "Sasa Bay\n",
      "Tumon Bay\n",
      "Tokai Maru\n",
      "Cormoran\n",
      "Aratama Maru\n",
      "Haputo Ecological Reserve Area\n",
      "Piti Bomb Holes\n",
      "War in the Pacific NHP\n",
      "Orote Ecological Reserve Area\n",
      "Bird Island Mar. Sanct.\n",
      "Achang Reef Flat\n",
      "Bird Island Sea Cucumber Reserve\n",
      "Tank Beach Trochus Reserve\n",
      "Forbidden Island Mar. Sanct.\n",
      "Managaha MCA\n",
      "Lighthouse Reef Trochus Reserve\n",
      "Laulau Bay Sea Cucumber Reserve\n",
      "Sasanhaya Fish Reserve\n",
      "Guam NWR\n",
      "Mariana Arc Of Fire NWR\n",
      "Mariana Trench NWR\n",
      "Marianas Trench MNM\n",
      "[(144.9278062420001, 13.613461181000048)]\n"
     ]
    }
   ],
   "source": [
    "for nshp in xrange(Nshp):\n",
    "    print(recs[nshp][6])\n",
    "print(shapes[0].points[:1])"
   ]
  },
  {
   "cell_type": "code",
   "execution_count": 6,
   "metadata": {
    "collapsed": false,
    "deletable": true,
    "editable": true
   },
   "outputs": [
    {
     "name": "stdout",
     "output_type": "stream",
     "text": [
      "[(144.9278062420001, 13.613461181000048)]\n",
      "6015\n",
      "True\n",
      "True\n",
      "45\n",
      "False\n",
      "False\n",
      "878\n",
      "False\n",
      "False\n",
      "125\n",
      "False\n",
      "False\n",
      "125\n",
      "False\n",
      "False\n",
      "123\n",
      "False\n",
      "False\n",
      "160\n",
      "False\n",
      "False\n",
      "769\n",
      "False\n",
      "False\n",
      "338\n",
      "False\n",
      "False\n",
      "260\n",
      "False\n",
      "False\n",
      "940\n",
      "False\n",
      "False\n",
      "1276\n",
      "False\n",
      "False\n",
      "571\n",
      "False\n",
      "False\n",
      "67\n",
      "False\n",
      "False\n",
      "1228\n",
      "False\n",
      "False\n",
      "5\n",
      "False\n",
      "False\n",
      "439\n",
      "False\n",
      "False\n",
      "1210\n",
      "False\n",
      "False\n",
      "256\n",
      "False\n",
      "False\n",
      "2636\n",
      "False\n",
      "False\n",
      "6073\n",
      "False\n",
      "False\n",
      "31\n",
      "False\n",
      "False\n",
      "5201\n",
      "False\n",
      "False\n"
     ]
    }
   ],
   "source": [
    "print(shapes[0].points[:1])\n",
    "for nshp in xrange(Nshp):\n",
    "    print(len(shapes[nshp].points))\n",
    "    print(point_in_poly(144.9178062420001, 13.613461181000048,shapes[nshp].points))\n",
    "    polygon=Polygon(shapes[nshp].points)\n",
    "    print(polygon.contains_point([144.9178062420001, 13.613461181000048]))\n"
   ]
  },
  {
   "cell_type": "code",
   "execution_count": 7,
   "metadata": {
    "collapsed": false,
    "deletable": true,
    "editable": true
   },
   "outputs": [],
   "source": [
    "pts = np.array(shapes[0].points)"
   ]
  },
  {
   "cell_type": "code",
   "execution_count": 8,
   "metadata": {
    "collapsed": false,
    "deletable": true,
    "editable": true
   },
   "outputs": [
    {
     "data": {
      "text/plain": [
       "array([[ 144.92780624,   13.61346118],\n",
       "       [ 144.92898923,   13.61222732],\n",
       "       [ 144.92942847,   13.61172038],\n",
       "       [ 144.93002556,   13.61039239],\n",
       "       [ 144.93043114,   13.60960503]])"
      ]
     },
     "execution_count": 8,
     "metadata": {},
     "output_type": "execute_result"
    }
   ],
   "source": [
    "pts[:5]"
   ]
  },
  {
   "cell_type": "code",
   "execution_count": 9,
   "metadata": {
    "collapsed": false,
    "deletable": true,
    "editable": true
   },
   "outputs": [
    {
     "name": "stdout",
     "output_type": "stream",
     "text": [
      "False\n"
     ]
    },
    {
     "data": {
      "text/plain": [
       "False"
      ]
     },
     "execution_count": 9,
     "metadata": {},
     "output_type": "execute_result"
    }
   ],
   "source": [
    "print(point_in_poly(145.92942848,   20.61172039,pts))\n",
    "\n",
    "polygon=Polygon(pts)\n",
    "\n",
    "polygon.contains_point( [145.92942848,   20.61172039],100)\n"
   ]
  }
 ],
 "metadata": {
  "kernelspec": {
   "display_name": "Python 2",
   "language": "python",
   "name": "python2"
  },
  "language_info": {
   "codemirror_mode": {
    "name": "ipython",
    "version": 2
   },
   "file_extension": ".py",
   "mimetype": "text/x-python",
   "name": "python",
   "nbconvert_exporter": "python",
   "pygments_lexer": "ipython2",
   "version": "2.7.13"
  }
 },
 "nbformat": 4,
 "nbformat_minor": 2
}
