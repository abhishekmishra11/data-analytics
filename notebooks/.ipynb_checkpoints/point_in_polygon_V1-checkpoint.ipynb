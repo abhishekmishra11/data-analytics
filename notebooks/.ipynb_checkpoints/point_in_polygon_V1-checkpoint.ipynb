{
 "cells": [
  {
   "cell_type": "code",
   "execution_count": null,
   "metadata": {
    "collapsed": true
   },
   "outputs": [],
   "source": [
    "import shapefile\n",
    "import matplotlib.pyplot as plt\n",
    "import matplotlib.patches as patches\n",
    "from matplotlib.patches import Polygon\n",
    "from matplotlib.collections import PatchCollection\n",
    "from matplotlib.cm import Dark2\n",
    "import numpy as np\n",
    "from geopy.distance import vincenty\n",
    "import matplotlib.path as mplPath"
   ]
  },
  {
   "cell_type": "code",
   "execution_count": 1,
   "metadata": {
    "collapsed": false,
    "deletable": true,
    "editable": true
   },
   "outputs": [
    {
     "name": "stdout",
     "output_type": "stream",
     "text": [
      "[(145.4758333300001, 11.56888889000004)]\n",
      "       0.000 kilometers\n",
      "     274.491 kilometers\n",
      "     349.357 kilometers\n",
      "     111.496 kilometers\n",
      "      92.198 kilometers\n",
      "     454.126 kilometers\n",
      "     633.349 kilometers\n",
      "     733.638 kilometers\n",
      "     834.156 kilometers\n",
      "     858.620 kilometers\n",
      "     884.679 kilometers\n",
      "     902.316 kilometers\n",
      "    1055.136 kilometers\n",
      "    1129.020 kilometers\n",
      "    1129.024 kilometers\n",
      "    1123.344 kilometers\n",
      "    1120.102 kilometers\n",
      "    1110.923 kilometers\n",
      "    1105.946 kilometers\n",
      "    1101.370 kilometers\n",
      "    1090.251 kilometers\n",
      "     868.216 kilometers\n",
      "     820.143 kilometers\n",
      "     771.971 kilometers\n",
      "     750.545 kilometers\n",
      "     758.371 kilometers\n",
      "     697.809 kilometers\n",
      "     588.869 kilometers\n",
      "     462.499 kilometers\n",
      "     124.992 kilometers\n",
      "       0.000 kilometers\n",
      "False\n",
      "False\n",
      "False\n",
      "       6.943 kilometers\n",
      "True\n",
      "True\n",
      "True\n",
      "       0.000 kilometers\n",
      "True\n",
      "True\n",
      "True\n",
      "       3.918 kilometers\n"
     ]
    }
   ],
   "source": [
    "def point_in_poly(x,y,poly):\n",
    "\n",
    "    n = len(poly)\n",
    "    inside = False\n",
    "\n",
    "    p1x,p1y = poly[0]\n",
    "    for i in range(n+1):\n",
    "        p2x,p2y = poly[i % n]\n",
    "        if y > min(p1y,p2y):\n",
    "            if y <= max(p1y,p2y):\n",
    "                if x <= max(p1x,p2x):\n",
    "                    if p1y != p2y:\n",
    "                        xints = (y-p1y)*(p2x-p1x)/(p2y-p1y)+p1x\n",
    "                    if p1x == p2x or x <= xints:\n",
    "                        inside = not inside\n",
    "        p1x,p1y = p2x,p2y\n",
    "\n",
    "    return inside"
   ]
  },
  {
   "cell_type": "code",
   "execution_count": null,
   "metadata": {
    "collapsed": true
   },
   "outputs": [],
   "source": [
    "#   -- input --\n",
    "%matplotlib tk\n",
    "\n",
    "sf = shapefile.Reader('/Users/edwardkerrigan/dev/illegal-fishing/mpa_inventory_2014_public_shp/pasted',\n",
    "                   'pastedg_shp')\n",
    "recs    = sf.records()\n",
    "shapes  = sf.shapes()\n",
    "Nshp    = len(shapes)\n",
    "cns     = []\n",
    "for nshp in xrange(Nshp):\n",
    "    cns.append(recs[nshp][1])\n",
    "cns = np.array(cns)\n",
    "\n",
    "cm = Dark2\n",
    "cccol = cm(1.*np.arange(Nshp)/Nshp)\n",
    "#   -- plot --\n",
    "fig     = plt.figure()\n",
    "ax      = fig.add_subplot(111)\n",
    "\n",
    "for nshp in {21}:\n",
    "    print(shapes[nshp].points[:1])\n",
    "    ptchs   = []\n",
    "    pts     = np.array(shapes[nshp].points)\n",
    "    prt     = shapes[nshp].parts\n",
    "    par     = list(prt) + [pts.shape[0]]\n",
    "    for pij in xrange(len(prt)):\n",
    "        ptchs.append(Polygon(pts[par[pij]:par[pij+1]]))\n",
    "    for chk_pt in shapes[nshp].points:\n",
    "        print('{: 12.3f} kilometers'.format(vincenty((145.4758333300001, 11.56888889000004),chk_pt).kilometers))\n",
    "    ax.add_collection(PatchCollection(ptchs,facecolor='r',edgecolor='k', linewidths=1))\n",
    "\n",
    "#    print(point_in_poly(145.475833331, 11.568888891,pts))\n",
    "    polygon=mplPath.Path(shapes[nshp].points)\n",
    "#    print(polygon.contains_point((145.475833331, 11.568888891)))\n",
    "    polygon1=Polygon(pts)\n",
    "#    print(polygon1.contains_point((145.475833331, 11.568888891)))\n",
    "    \n",
    "    #vincenty([143.52, 12.671)\n",
    "ax.set_xlim(140,+150)\n",
    "ax.set_ylim(0,25)\n",
    "\n",
    "\n",
    "ax.plot(145.45, 11.5,'bo',markersize=5)\n",
    "print(point_in_poly(145.45, 11.5,pts))\n",
    "print(polygon.contains_point((145.45, 11.5)))\n",
    "print(polygon1.contains_point((145.45, 11.5)))\n",
    "print('{: 12.3f} kilometers'.format(vincenty((145.45, 11.5),chk_pt).kilometers))\n",
    "\n",
    "ax.plot(145.475833331, 11.568888891,'go',markersize=5)\n",
    "print(point_in_poly(145.475833331, 11.568888891,pts))\n",
    "print(polygon.contains_point((145.475833331, 11.568888891)))\n",
    "print(polygon1.contains_point((145.475833331, 11.568888891)))\n",
    "print('{: 12.3f} kilometers'.format(vincenty((145.47583333, 11.56888889),chk_pt).kilometers))\n",
    "\n",
    "ax.plot(145.5, 11.6,'yo',markersize=5)\n",
    "print(point_in_poly(145.5, 11.6,pts))\n",
    "print(polygon.contains_point((145.5, 11.6)))\n",
    "print(polygon1.contains_point((145.5, 11.6)))\n",
    "print('{: 12.3f} kilometers'.format(vincenty((145.5, 11.6),chk_pt).kilometers))\n",
    "\n",
    "\n",
    "plt.show()"
   ]
  },
  {
   "cell_type": "code",
   "execution_count": 4,
   "metadata": {
    "collapsed": false,
    "deletable": true,
    "editable": true
   },
   "outputs": [
    {
     "name": "stdout",
     "output_type": "stream",
     "text": [
      "(145.4758333300001, 11.56888889000004)\n"
     ]
    }
   ],
   "source": [
    "print(chk_pt)"
   ]
  },
  {
   "cell_type": "code",
   "execution_count": 4,
   "metadata": {
    "collapsed": false,
    "deletable": true,
    "editable": true
   },
   "outputs": [
    {
     "name": "stdout",
     "output_type": "stream",
     "text": [
      "Pati Point\n",
      "Sasa Bay\n",
      "Tumon Bay\n",
      "Tokai Maru\n",
      "Cormoran\n",
      "Aratama Maru\n",
      "Haputo Ecological Reserve Area\n",
      "Piti Bomb Holes\n",
      "War in the Pacific NHP\n",
      "Orote Ecological Reserve Area\n",
      "Bird Island Mar. Sanct.\n",
      "Achang Reef Flat\n",
      "Bird Island Sea Cucumber Reserve\n",
      "Tank Beach Trochus Reserve\n",
      "Forbidden Island Mar. Sanct.\n",
      "Managaha MCA\n",
      "Lighthouse Reef Trochus Reserve\n",
      "Laulau Bay Sea Cucumber Reserve\n",
      "Sasanhaya Fish Reserve\n",
      "Guam NWR\n",
      "Mariana Arc Of Fire NWR\n",
      "Mariana Trench NWR\n",
      "Marianas Trench MNM\n",
      "[(144.9278062420001, 13.613461181000048)]\n"
     ]
    }
   ],
   "source": [
    "for nshp in xrange(Nshp):\n",
    "    print(recs[nshp][6])\n",
    "print(shapes[0].points[:1])"
   ]
  },
  {
   "cell_type": "code",
   "execution_count": 5,
   "metadata": {
    "collapsed": false,
    "deletable": true,
    "editable": true
   },
   "outputs": [
    {
     "name": "stdout",
     "output_type": "stream",
     "text": [
      "[(144.9278062420001, 13.613461181000048)]\n",
      "6015\n",
      "True\n",
      "True\n",
      "45\n",
      "False\n",
      "False\n",
      "878\n",
      "False\n",
      "False\n",
      "125\n",
      "False\n",
      "False\n",
      "125\n",
      "False\n",
      "False\n",
      "123\n",
      "False\n",
      "False\n",
      "160\n",
      "False\n",
      "False\n",
      "769\n",
      "False\n",
      "False\n",
      "338\n",
      "False\n",
      "False\n",
      "260\n",
      "False\n",
      "False\n",
      "940\n",
      "False\n",
      "False\n",
      "1276\n",
      "False\n",
      "False\n",
      "571\n",
      "False\n",
      "False\n",
      "67\n",
      "False\n",
      "False\n",
      "1228\n",
      "False\n",
      "False\n",
      "5\n",
      "False\n",
      "False\n",
      "439\n",
      "False\n",
      "False\n",
      "1210\n",
      "False\n",
      "False\n",
      "256\n",
      "False\n",
      "False\n",
      "2636\n",
      "False\n",
      "False\n",
      "6073\n",
      "False\n",
      "False\n",
      "31\n",
      "False\n",
      "False\n",
      "5201\n",
      "False\n",
      "False\n"
     ]
    }
   ],
   "source": [
    "print(shapes[0].points[:1])\n",
    "for nshp in xrange(Nshp):\n",
    "    print(len(shapes[nshp].points))\n",
    "    print(point_in_poly(144.9178062420001, 13.613461181000048,shapes[nshp].points))\n",
    "    polygon=Polygon(shapes[nshp].points)\n",
    "    print(polygon.contains_point([144.9178062420001, 13.613461181000048]))\n"
   ]
  },
  {
   "cell_type": "code",
   "execution_count": 6,
   "metadata": {
    "collapsed": false,
    "deletable": true,
    "editable": true
   },
   "outputs": [],
   "source": [
    "pts = np.array(shapes[0].points)"
   ]
  },
  {
   "cell_type": "code",
   "execution_count": 7,
   "metadata": {
    "collapsed": false,
    "deletable": true,
    "editable": true
   },
   "outputs": [
    {
     "data": {
      "text/plain": [
       "array([[ 144.92780624,   13.61346118],\n",
       "       [ 144.92898923,   13.61222732],\n",
       "       [ 144.92942847,   13.61172038],\n",
       "       [ 144.93002556,   13.61039239],\n",
       "       [ 144.93043114,   13.60960503]])"
      ]
     },
     "execution_count": 7,
     "metadata": {},
     "output_type": "execute_result"
    }
   ],
   "source": [
    "pts[:5]"
   ]
  },
  {
   "cell_type": "code",
   "execution_count": 8,
   "metadata": {
    "collapsed": false,
    "deletable": true,
    "editable": true
   },
   "outputs": [
    {
     "name": "stdout",
     "output_type": "stream",
     "text": [
      "False\n"
     ]
    },
    {
     "data": {
      "text/plain": [
       "False"
      ]
     },
     "execution_count": 8,
     "metadata": {},
     "output_type": "execute_result"
    }
   ],
   "source": [
    "print(point_in_poly(145.92942848,   20.61172039,pts))\n",
    "\n",
    "polygon=Polygon(pts)\n",
    "\n",
    "polygon.contains_point( [145.92942848,   20.61172039],100)\n"
   ]
  },
  {
   "cell_type": "code",
   "execution_count": null,
   "metadata": {
    "collapsed": true,
    "deletable": true,
    "editable": true
   },
   "outputs": [],
   "source": [
    "fig = plt.figure(figsize=(15,5))\n",
    "map = Basemap(projection='merc',llcrnrlat=-80,urcrnrlat=80,\\\n",
    "            llcrnrlon=-180,urcrnrlon=180,lat_ts=50,resolution='c')\n",
    "\n",
    "map.readshapefile('/Users/edwardkerrigan/dev/illegal-fishing/mpa_inventory_2014_public_shp/pasted',\n",
    "                   'pastedg_shp')\n",
    "#-----------------------------------------------------------------------------------------\n",
    "# set up orthographic map projection with\n",
    "# perspective of satellite looking down at 50N, 100W.\n",
    "# use low resolution coastlines.\n",
    "def setup_map(plt_, map_, ax_):\n",
    "    plt_.subplots_adjust(left=0.05,right=0.95,top=0.90,bottom=0.05,wspace=0.15,hspace=0.05)\n",
    "    axs_ = plt_.subplot(111)\n",
    "    map_ = Basemap(projection='merc',llcrnrlat=-80,urcrnrlat=80,\\\n",
    "                llcrnrlon=-180,urcrnrlon=180,lat_ts=50,resolution='c')\n",
    "    # draw coastlines, country boundaries, fill continents.\n",
    "#    map_.drawcoastlines(linewidth=0.25)\n",
    "#    map_.drawcountries(linewidth=0.1)\n",
    "    map_.fillcontinents(color='#ddaa66',lake_color='aqua')\n",
    "    map_.drawmapboundary(fill_color='#7777ff')\n",
    "    map_.drawcoastlines(linewidth=0.25)\n",
    "    # draw lat/lon grid lines every 30 degrees.\n",
    "    map_.drawmeridians(np.arange(0,360,30))\n",
    "    map_.drawparallels(np.arange(-90,90,30))\n",
    "    patches=[]\n",
    "\n",
    "    for info, shape in zip(map.mpa_inventory_2014_public_shp_info, map.mpa_inventory_2014_public_shp):\n",
    "        patches.append(Polygon(np.array(shape),True))\n",
    "\n",
    "    ax_.add_collection(PatchCollection(patches, facecolor= 'r', edgecolor='k', linewidths=1., zorder=2))\n",
    "\n",
    "#    patches=[]\n",
    "\n",
    "#    for info, shape in zip(map.USMaritimeLimitsAndBoundariesSHP_info, map.USMaritimeLimitsAndBoundariesSHP):\n",
    "#        patches.append(Polygon(np.array(shape),True))\n",
    "\n",
    "#    ax_.add_collection(PatchCollection(patches, facecolor= 'r', edgecolor='k', linewidths=1., zorder=2))\n",
    "\n",
    "#-----------------------------------------------------------------------------------------\n",
    "# plot_position\n",
    "#    Description: adds position data points to a figure does NOT connect data points\n",
    "#    Call line Parameters\n",
    "#      _plt:    figure for data\n",
    "#      _axs:    axes to add data\n",
    "#      _data:   data to add\n",
    "#      _mkr:    marker to use for data\n",
    "#      _title:  title for figure\n",
    "#-----------------------------------------------------------------------------------------\n",
    "def plot_position(_plt, _axs, _data, _mkr, _label):\n",
    "    lon=[]\n",
    "    lat=[]\n",
    "\n",
    "    lon=_data[['lon']].as_matrix()\n",
    "    lat=_data[['lat']].as_matrix()\n",
    "\n",
    "    x,y = map(lon[:], lat[:])\n",
    "    _axs.plot(x, y, _mkr, markersize=1, label=_label)\n",
    "    \n",
    "    \n",
    "#Plot all Position data\n",
    "#plt.subplots_adjust(left=0.05,right=0.95,top=0.90,bottom=0.05,wspace=0.15,hspace=0.05)\n",
    "fig = plt.figure(figsize=(20,15))\n",
    "axs1 = plt.subplot(111)\n",
    "axs1.set_title('US Marine Protected Areas',fontsize=20)\n",
    "setup_map(plt, map, axs1)\n",
    "#plt.show()\n",
    "\n",
    "fig = plt.figure(figsize=(20,15))\n",
    "axs = plt.subplot(111)\n",
    "axs.set_title('All Training Data',fontsize=20)\n",
    "setup_map(plt, map, axs)\n",
    "plot_position(plt, axs, all_data.loc[all_data['classification']==-1], 'cx',  'Not Flagged')\n",
    "plot_position(plt, axs, all_data.loc[all_data['classification']==1], 'g^',  'Not Fishing')  \n",
    "plot_position(plt, axs, all_data.loc[all_data['classification']==0], 'bo',  'Fishing')\n",
    "leg = axs.legend(loc=8, markerscale=8,fontsize=12, framealpha =0.0)\n",
    "plt.show()\n"
   ]
  },
  {
   "cell_type": "code",
   "execution_count": null,
   "metadata": {
    "collapsed": true,
    "deletable": true,
    "editable": true
   },
   "outputs": [],
   "source": [
    "def point_in_poly(x,y,poly):\n",
    "\n",
    "    n = len(poly)\n",
    "    inside = False\n",
    "\n",
    "    p1x,p1y = poly[0]\n",
    "    for i in range(n+1):\n",
    "        p2x,p2y = poly[i % n]\n",
    "        if y > min(p1y,p2y):\n",
    "            if y <= max(p1y,p2y):\n",
    "                if x <= max(p1x,p2x):\n",
    "                    if p1y != p2y:\n",
    "                        xints = (y-p1y)*(p2x-p1x)/(p2y-p1y)+p1x\n",
    "                    if p1x == p2x or x <= xints:\n",
    "                        inside = not inside\n",
    "        p1x,p1y = p2x,p2y\n",
    "\n",
    "    return inside\n"
   ]
  },
  {
   "cell_type": "code",
   "execution_count": 9,
   "metadata": {
    "collapsed": false,
    "deletable": true,
    "editable": true
   },
   "outputs": [
    {
     "ename": "TypeError",
     "evalue": "'Polygon' object is not iterable",
     "output_type": "error",
     "traceback": [
      "\u001b[0;31m---------------------------------------------------------------------------\u001b[0m",
      "\u001b[0;31mTypeError\u001b[0m                                 Traceback (most recent call last)",
      "\u001b[0;32m<ipython-input-9-ede16e1800f6>\u001b[0m in \u001b[0;36m<module>\u001b[0;34m()\u001b[0m\n\u001b[1;32m     11\u001b[0m \u001b[0;32mfor\u001b[0m \u001b[0mpij\u001b[0m \u001b[0;32min\u001b[0m \u001b[0mxrange\u001b[0m\u001b[0;34m(\u001b[0m\u001b[0mlen\u001b[0m\u001b[0;34m(\u001b[0m\u001b[0mprt\u001b[0m\u001b[0;34m)\u001b[0m\u001b[0;34m)\u001b[0m\u001b[0;34m:\u001b[0m\u001b[0;34m\u001b[0m\u001b[0m\n\u001b[1;32m     12\u001b[0m      \u001b[0mptchs\u001b[0m\u001b[0;34m.\u001b[0m\u001b[0mappend\u001b[0m\u001b[0;34m(\u001b[0m\u001b[0mPolygon\u001b[0m\u001b[0;34m(\u001b[0m\u001b[0mpts\u001b[0m\u001b[0;34m[\u001b[0m\u001b[0mpar\u001b[0m\u001b[0;34m[\u001b[0m\u001b[0mpij\u001b[0m\u001b[0;34m]\u001b[0m\u001b[0;34m:\u001b[0m\u001b[0mpar\u001b[0m\u001b[0;34m[\u001b[0m\u001b[0mpij\u001b[0m\u001b[0;34m+\u001b[0m\u001b[0;36m1\u001b[0m\u001b[0;34m]\u001b[0m\u001b[0;34m]\u001b[0m\u001b[0;34m)\u001b[0m\u001b[0;34m)\u001b[0m\u001b[0;34m\u001b[0m\u001b[0m\n\u001b[0;32m---> 13\u001b[0;31m \u001b[0max\u001b[0m\u001b[0;34m.\u001b[0m\u001b[0madd_collection\u001b[0m\u001b[0;34m(\u001b[0m\u001b[0mPatchCollection\u001b[0m\u001b[0;34m(\u001b[0m\u001b[0mpolygon\u001b[0m\u001b[0;34m,\u001b[0m\u001b[0mfacecolor\u001b[0m\u001b[0;34m=\u001b[0m\u001b[0;34m'red'\u001b[0m\u001b[0;34m,\u001b[0m\u001b[0medgecolor\u001b[0m\u001b[0;34m=\u001b[0m\u001b[0;34m'k'\u001b[0m\u001b[0;34m,\u001b[0m \u001b[0mlinewidths\u001b[0m\u001b[0;34m=\u001b[0m\u001b[0;36m.1\u001b[0m\u001b[0;34m)\u001b[0m\u001b[0;34m)\u001b[0m\u001b[0;34m\u001b[0m\u001b[0m\n\u001b[0m\u001b[1;32m     14\u001b[0m \u001b[0max\u001b[0m\u001b[0;34m.\u001b[0m\u001b[0mset_xlim\u001b[0m\u001b[0;34m(\u001b[0m\u001b[0;34m-\u001b[0m\u001b[0;36m180\u001b[0m\u001b[0;34m,\u001b[0m\u001b[0;34m+\u001b[0m\u001b[0;36m180\u001b[0m\u001b[0;34m)\u001b[0m\u001b[0;34m\u001b[0m\u001b[0m\n\u001b[1;32m     15\u001b[0m \u001b[0max\u001b[0m\u001b[0;34m.\u001b[0m\u001b[0mset_ylim\u001b[0m\u001b[0;34m(\u001b[0m\u001b[0;34m-\u001b[0m\u001b[0;36m90\u001b[0m\u001b[0;34m,\u001b[0m\u001b[0;36m90\u001b[0m\u001b[0;34m)\u001b[0m\u001b[0;34m\u001b[0m\u001b[0m\n",
      "\u001b[0;32m/Users/edwardkerrigan/.virtualenvs/illegal-fishing2.7/lib/python2.7/site-packages/matplotlib/collections.pyc\u001b[0m in \u001b[0;36m__init__\u001b[0;34m(self, patches, match_original, **kwargs)\u001b[0m\n\u001b[1;32m   1682\u001b[0m         \u001b[0mCollection\u001b[0m\u001b[0;34m.\u001b[0m\u001b[0m__init__\u001b[0m\u001b[0;34m(\u001b[0m\u001b[0mself\u001b[0m\u001b[0;34m,\u001b[0m \u001b[0;34m**\u001b[0m\u001b[0mkwargs\u001b[0m\u001b[0;34m)\u001b[0m\u001b[0;34m\u001b[0m\u001b[0m\n\u001b[1;32m   1683\u001b[0m \u001b[0;34m\u001b[0m\u001b[0m\n\u001b[0;32m-> 1684\u001b[0;31m         \u001b[0mself\u001b[0m\u001b[0;34m.\u001b[0m\u001b[0mset_paths\u001b[0m\u001b[0;34m(\u001b[0m\u001b[0mpatches\u001b[0m\u001b[0;34m)\u001b[0m\u001b[0;34m\u001b[0m\u001b[0m\n\u001b[0m\u001b[1;32m   1685\u001b[0m \u001b[0;34m\u001b[0m\u001b[0m\n\u001b[1;32m   1686\u001b[0m     \u001b[0;32mdef\u001b[0m \u001b[0mset_paths\u001b[0m\u001b[0;34m(\u001b[0m\u001b[0mself\u001b[0m\u001b[0;34m,\u001b[0m \u001b[0mpatches\u001b[0m\u001b[0;34m)\u001b[0m\u001b[0;34m:\u001b[0m\u001b[0;34m\u001b[0m\u001b[0m\n",
      "\u001b[0;32m/Users/edwardkerrigan/.virtualenvs/illegal-fishing2.7/lib/python2.7/site-packages/matplotlib/collections.pyc\u001b[0m in \u001b[0;36mset_paths\u001b[0;34m(self, patches)\u001b[0m\n\u001b[1;32m   1686\u001b[0m     \u001b[0;32mdef\u001b[0m \u001b[0mset_paths\u001b[0m\u001b[0;34m(\u001b[0m\u001b[0mself\u001b[0m\u001b[0;34m,\u001b[0m \u001b[0mpatches\u001b[0m\u001b[0;34m)\u001b[0m\u001b[0;34m:\u001b[0m\u001b[0;34m\u001b[0m\u001b[0m\n\u001b[1;32m   1687\u001b[0m         paths = [p.get_transform().transform_path(p.get_path())\n\u001b[0;32m-> 1688\u001b[0;31m                  for p in patches]\n\u001b[0m\u001b[1;32m   1689\u001b[0m         \u001b[0mself\u001b[0m\u001b[0;34m.\u001b[0m\u001b[0m_paths\u001b[0m \u001b[0;34m=\u001b[0m \u001b[0mpaths\u001b[0m\u001b[0;34m\u001b[0m\u001b[0m\n\u001b[1;32m   1690\u001b[0m \u001b[0;34m\u001b[0m\u001b[0m\n",
      "\u001b[0;31mTypeError\u001b[0m: 'Polygon' object is not iterable"
     ]
    }
   ],
   "source": [
    "recs    = sf.records()\n",
    "shapes  = sf.shapes()\n",
    "Nshp    = len(shapes)\n",
    "nshp=0\n",
    "fig     = plt.figure()\n",
    "ax      = fig.add_subplot(111)\n",
    "ptchs   = []\n",
    "pts     = np.array(shapes[nshp].points)\n",
    "prt     = shapes[nshp].parts\n",
    "par     = list(prt) + [pts.shape[0]]\n",
    "for pij in xrange(len(prt)):\n",
    "     ptchs.append(Polygon(pts[par[pij]:par[pij+1]]))\n",
    "ax.add_collection(PatchCollection(polygon,facecolor='red',edgecolor='k', linewidths=.1))\n",
    "ax.set_xlim(-180,+180)\n",
    "ax.set_ylim(-90,90)"
   ]
  },
  {
   "cell_type": "code",
   "execution_count": null,
   "metadata": {
    "collapsed": true,
    "deletable": true,
    "editable": true
   },
   "outputs": [],
   "source": []
  }
 ],
 "metadata": {
  "kernelspec": {
   "display_name": "Python 2",
   "language": "python",
   "name": "python2"
  },
  "language_info": {
   "codemirror_mode": {
    "name": "ipython",
    "version": 2
   },
   "file_extension": ".py",
   "mimetype": "text/x-python",
   "name": "python",
   "nbconvert_exporter": "python",
   "pygments_lexer": "ipython2",
   "version": "2.7.11"
  }
 },
 "nbformat": 4,
 "nbformat_minor": 2
}
